{
 "cells": [
  {
   "cell_type": "code",
   "execution_count": null,
   "metadata": {},
   "outputs": [],
   "source": [
    "%ls -la"
   ]
  },
  {
   "cell_type": "code",
   "execution_count": null,
   "metadata": {},
   "outputs": [],
   "source": [
    "%pwd"
   ]
  },
  {
   "cell_type": "code",
   "execution_count": 1,
   "metadata": {},
   "outputs": [],
   "source": [
    "# General:\n",
    "import tweepy           # To consume Twitter's API\n",
    "import pandas as pd     # To handle data\n",
    "import numpy as np      # For number computing\n",
    "\n",
    "# For plotting and visualization:\n",
    "from IPython.display import display\n",
    "import matplotlib.pyplot as plt\n",
    "import seaborn as sns\n",
    "from wordcloud import WordCloud, STOPWORDS  # package used to generate word clouds\n",
    "from PIL import Image\n",
    "%matplotlib inline\n"
   ]
  },
  {
   "cell_type": "code",
   "execution_count": 2,
   "metadata": {},
   "outputs": [],
   "source": [
    "# We import our access keys:\n",
    "from credentials import *    # This will allow us to use the keys as variables\n",
    "\n",
    "# API's setup:\n",
    "def twitter_setup():\n",
    "    \"\"\"\n",
    "    Utility function to setup the Twitter's API\n",
    "    with our access keys provided.\n",
    "    \"\"\"\n",
    "    # Authentication and access using keys:\n",
    "    auth = tweepy.OAuthHandler(CONSUMER_KEY, CONSUMER_SECRET)\n",
    "    auth.set_access_token(ACCESS_TOKEN, ACCESS_SECRET)\n",
    "\n",
    "    # Return API with authentication:\n",
    "    api = tweepy.API(auth)\n",
    "    return api"
   ]
  },
  {
   "cell_type": "code",
   "execution_count": 3,
   "metadata": {},
   "outputs": [
    {
     "name": "stdout",
     "output_type": "stream",
     "text": [
      "Number of tweets extracted: 200.\n",
      "\n",
      "5 recent tweets:\n",
      "\n",
      "उनको चौकीदार से डर लगने लगा है।\n",
      "\n",
      "चोरों की नींद हराम हो गई है कि चौकीदार सोने को तैयार नहीं है।\n",
      "\n",
      "चौकीदार चोरों को छो… https://t.co/xCPTw1zDiK\n",
      "\n",
      "Congress is a master at misleading farmers. \n",
      "\n",
      "Their fake promises and tokenism will not cut ice with the hardworkin… https://t.co/wlISXQgLlr\n",
      "\n",
      "Know how the emphasis on next-generation infrastructure will have a positive impact on the people of Himachal Prade… https://t.co/Dc0Jz3WXkI\n",
      "\n",
      "हिमाचल प्रदेश और अटल जी का नाता अटूट रहा। \n",
      "\n",
      "अटल जी ने हिमाचल के विकास की मजबूत नींव रखी और उसी से प्रेरित होकर भाज… https://t.co/4zKhRVPJTG\n",
      "\n",
      "Here are pictures from the public meeting in Dharamshala. \n",
      "\n",
      "I congratulate the Himachal Pradesh Government under CM… https://t.co/5vupo9ub1C\n",
      "\n"
     ]
    }
   ],
   "source": [
    "\n",
    "\n",
    "# We create an extractor object:\n",
    "extractor = twitter_setup()\n",
    "\n",
    "# We create a tweet list as follows:\n",
    "tweets = extractor.user_timeline(screen_name=\"narendramodi\", count=200)\n",
    "print(\"Number of tweets extracted: {}.\\n\".format(len(tweets)))\n",
    "\n",
    "# We print the most recent 5 tweets:\n",
    "print(\"5 recent tweets:\\n\")\n",
    "for tweet in tweets[:5]:\n",
    "    print(tweet.text)\n",
    "    print()"
   ]
  },
  {
   "cell_type": "code",
   "execution_count": 4,
   "metadata": {},
   "outputs": [
    {
     "data": {
      "text/html": [
       "<div>\n",
       "<style scoped>\n",
       "    .dataframe tbody tr th:only-of-type {\n",
       "        vertical-align: middle;\n",
       "    }\n",
       "\n",
       "    .dataframe tbody tr th {\n",
       "        vertical-align: top;\n",
       "    }\n",
       "\n",
       "    .dataframe thead th {\n",
       "        text-align: right;\n",
       "    }\n",
       "</style>\n",
       "<table border=\"1\" class=\"dataframe\">\n",
       "  <thead>\n",
       "    <tr style=\"text-align: right;\">\n",
       "      <th></th>\n",
       "      <th>Tweets</th>\n",
       "    </tr>\n",
       "  </thead>\n",
       "  <tbody>\n",
       "    <tr>\n",
       "      <th>0</th>\n",
       "      <td>उनको चौकीदार से डर लगने लगा है।\\n\\nचोरों की नी...</td>\n",
       "    </tr>\n",
       "    <tr>\n",
       "      <th>1</th>\n",
       "      <td>Congress is a master at misleading farmers. \\n...</td>\n",
       "    </tr>\n",
       "    <tr>\n",
       "      <th>2</th>\n",
       "      <td>Know how the emphasis on next-generation infra...</td>\n",
       "    </tr>\n",
       "    <tr>\n",
       "      <th>3</th>\n",
       "      <td>हिमाचल प्रदेश और अटल जी का नाता अटूट रहा। \\n\\n...</td>\n",
       "    </tr>\n",
       "    <tr>\n",
       "      <th>4</th>\n",
       "      <td>Here are pictures from the public meeting in D...</td>\n",
       "    </tr>\n",
       "    <tr>\n",
       "      <th>5</th>\n",
       "      <td>देवभूमि हिमाचल के धर्मशाला में जनसभा को संबोधि...</td>\n",
       "    </tr>\n",
       "    <tr>\n",
       "      <th>6</th>\n",
       "      <td>Looking forward to being in Devbhoomi Himachal...</td>\n",
       "    </tr>\n",
       "    <tr>\n",
       "      <th>7</th>\n",
       "      <td>Assamese is a great language and the culture o...</td>\n",
       "    </tr>\n",
       "    <tr>\n",
       "      <th>8</th>\n",
       "      <td>Connectivity will lead to more opportunity, wh...</td>\n",
       "    </tr>\n",
       "    <tr>\n",
       "      <th>9</th>\n",
       "      <td>Absolutely! More bright engineers who will con...</td>\n",
       "    </tr>\n",
       "  </tbody>\n",
       "</table>\n",
       "</div>"
      ],
      "text/plain": [
       "                                              Tweets\n",
       "0  उनको चौकीदार से डर लगने लगा है।\\n\\nचोरों की नी...\n",
       "1  Congress is a master at misleading farmers. \\n...\n",
       "2  Know how the emphasis on next-generation infra...\n",
       "3  हिमाचल प्रदेश और अटल जी का नाता अटूट रहा। \\n\\n...\n",
       "4  Here are pictures from the public meeting in D...\n",
       "5  देवभूमि हिमाचल के धर्मशाला में जनसभा को संबोधि...\n",
       "6  Looking forward to being in Devbhoomi Himachal...\n",
       "7  Assamese is a great language and the culture o...\n",
       "8  Connectivity will lead to more opportunity, wh...\n",
       "9  Absolutely! More bright engineers who will con..."
      ]
     },
     "metadata": {},
     "output_type": "display_data"
    }
   ],
   "source": [
    "# We create a pandas dataframe as follows:\n",
    "data = pd.DataFrame(data=[tweet.text for tweet in tweets], columns=['Tweets'])\n",
    "\n",
    "# We display the first 10 elements of the dataframe:\n",
    "display(data.head(10))"
   ]
  },
  {
   "cell_type": "code",
   "execution_count": 5,
   "metadata": {},
   "outputs": [
    {
     "name": "stdout",
     "output_type": "stream",
     "text": [
      "['__class__', '__delattr__', '__dict__', '__dir__', '__doc__', '__eq__', '__format__', '__ge__', '__getattribute__', '__getstate__', '__gt__', '__hash__', '__init__', '__init_subclass__', '__le__', '__lt__', '__module__', '__ne__', '__new__', '__reduce__', '__reduce_ex__', '__repr__', '__setattr__', '__sizeof__', '__str__', '__subclasshook__', '__weakref__', '_api', '_json', 'author', 'contributors', 'coordinates', 'created_at', 'destroy', 'entities', 'favorite', 'favorite_count', 'favorited', 'geo', 'id', 'id_str', 'in_reply_to_screen_name', 'in_reply_to_status_id', 'in_reply_to_status_id_str', 'in_reply_to_user_id', 'in_reply_to_user_id_str', 'is_quote_status', 'lang', 'parse', 'parse_list', 'place', 'possibly_sensitive', 'retweet', 'retweet_count', 'retweeted', 'retweets', 'source', 'source_url', 'text', 'truncated', 'user']\n"
     ]
    }
   ],
   "source": [
    "# Internal methods of a single tweet object:\n",
    "print(dir(tweets[0]))"
   ]
  },
  {
   "cell_type": "code",
   "execution_count": 6,
   "metadata": {},
   "outputs": [
    {
     "name": "stdout",
     "output_type": "stream",
     "text": [
      "1078290326119342082\n",
      "2018-12-27 14:03:42\n",
      "Twitter Media Studio\n",
      "19674\n",
      "5818\n",
      "None\n",
      "None\n",
      "{'hashtags': [], 'symbols': [], 'user_mentions': [], 'urls': [{'url': 'https://t.co/xCPTw1zDiK', 'expanded_url': 'https://twitter.com/i/web/status/1078290326119342082', 'display_url': 'twitter.com/i/web/status/1…', 'indices': [117, 140]}]}\n"
     ]
    }
   ],
   "source": [
    "# We print info from the first tweet:\n",
    "print(tweets[0].id)\n",
    "print(tweets[0].created_at)\n",
    "print(tweets[0].source)\n",
    "print(tweets[0].favorite_count)\n",
    "print(tweets[0].retweet_count)\n",
    "print(tweets[0].geo)\n",
    "print(tweets[0].coordinates)\n",
    "print(tweets[0].entities)"
   ]
  },
  {
   "cell_type": "code",
   "execution_count": 7,
   "metadata": {},
   "outputs": [
    {
     "data": {
      "text/html": [
       "<div>\n",
       "<style scoped>\n",
       "    .dataframe tbody tr th:only-of-type {\n",
       "        vertical-align: middle;\n",
       "    }\n",
       "\n",
       "    .dataframe tbody tr th {\n",
       "        vertical-align: top;\n",
       "    }\n",
       "\n",
       "    .dataframe thead th {\n",
       "        text-align: right;\n",
       "    }\n",
       "</style>\n",
       "<table border=\"1\" class=\"dataframe\">\n",
       "  <thead>\n",
       "    <tr style=\"text-align: right;\">\n",
       "      <th></th>\n",
       "      <th>Tweets</th>\n",
       "      <th>len</th>\n",
       "      <th>ID</th>\n",
       "      <th>Date</th>\n",
       "      <th>Source</th>\n",
       "      <th>Likes</th>\n",
       "      <th>RTs</th>\n",
       "    </tr>\n",
       "  </thead>\n",
       "  <tbody>\n",
       "    <tr>\n",
       "      <th>0</th>\n",
       "      <td>उनको चौकीदार से डर लगने लगा है।\\n\\nचोरों की नी...</td>\n",
       "      <td>140</td>\n",
       "      <td>1078290326119342082</td>\n",
       "      <td>2018-12-27 14:03:42</td>\n",
       "      <td>Twitter Media Studio</td>\n",
       "      <td>19674</td>\n",
       "      <td>5818</td>\n",
       "    </tr>\n",
       "    <tr>\n",
       "      <th>1</th>\n",
       "      <td>Congress is a master at misleading farmers. \\n...</td>\n",
       "      <td>140</td>\n",
       "      <td>1078290217440665604</td>\n",
       "      <td>2018-12-27 14:03:16</td>\n",
       "      <td>Twitter Media Studio</td>\n",
       "      <td>6081</td>\n",
       "      <td>1826</td>\n",
       "    </tr>\n",
       "    <tr>\n",
       "      <th>2</th>\n",
       "      <td>Know how the emphasis on next-generation infra...</td>\n",
       "      <td>140</td>\n",
       "      <td>1078290099056459776</td>\n",
       "      <td>2018-12-27 14:02:47</td>\n",
       "      <td>Twitter Media Studio</td>\n",
       "      <td>4078</td>\n",
       "      <td>1127</td>\n",
       "    </tr>\n",
       "    <tr>\n",
       "      <th>3</th>\n",
       "      <td>हिमाचल प्रदेश और अटल जी का नाता अटूट रहा। \\n\\n...</td>\n",
       "      <td>139</td>\n",
       "      <td>1078290034808115200</td>\n",
       "      <td>2018-12-27 14:02:32</td>\n",
       "      <td>Twitter Media Studio</td>\n",
       "      <td>6726</td>\n",
       "      <td>1553</td>\n",
       "    </tr>\n",
       "    <tr>\n",
       "      <th>4</th>\n",
       "      <td>Here are pictures from the public meeting in D...</td>\n",
       "      <td>140</td>\n",
       "      <td>1078289676031512577</td>\n",
       "      <td>2018-12-27 14:01:07</td>\n",
       "      <td>Twitter Web Client</td>\n",
       "      <td>4286</td>\n",
       "      <td>1149</td>\n",
       "    </tr>\n",
       "    <tr>\n",
       "      <th>5</th>\n",
       "      <td>देवभूमि हिमाचल के धर्मशाला में जनसभा को संबोधि...</td>\n",
       "      <td>98</td>\n",
       "      <td>1078195581493768193</td>\n",
       "      <td>2018-12-27 07:47:13</td>\n",
       "      <td>Periscope</td>\n",
       "      <td>15081</td>\n",
       "      <td>3369</td>\n",
       "    </tr>\n",
       "    <tr>\n",
       "      <th>6</th>\n",
       "      <td>Looking forward to being in Devbhoomi Himachal...</td>\n",
       "      <td>140</td>\n",
       "      <td>1077959410067144704</td>\n",
       "      <td>2018-12-26 16:08:45</td>\n",
       "      <td>Twitter for iPhone</td>\n",
       "      <td>15784</td>\n",
       "      <td>2858</td>\n",
       "    </tr>\n",
       "    <tr>\n",
       "      <th>7</th>\n",
       "      <td>Assamese is a great language and the culture o...</td>\n",
       "      <td>89</td>\n",
       "      <td>1077959056860594176</td>\n",
       "      <td>2018-12-26 16:07:21</td>\n",
       "      <td>Twitter for iPhone</td>\n",
       "      <td>15346</td>\n",
       "      <td>2714</td>\n",
       "    </tr>\n",
       "    <tr>\n",
       "      <th>8</th>\n",
       "      <td>Connectivity will lead to more opportunity, wh...</td>\n",
       "      <td>98</td>\n",
       "      <td>1077958857467543552</td>\n",
       "      <td>2018-12-26 16:06:33</td>\n",
       "      <td>Twitter for iPhone</td>\n",
       "      <td>5729</td>\n",
       "      <td>1214</td>\n",
       "    </tr>\n",
       "    <tr>\n",
       "      <th>9</th>\n",
       "      <td>Absolutely! More bright engineers who will con...</td>\n",
       "      <td>98</td>\n",
       "      <td>1077958697861681152</td>\n",
       "      <td>2018-12-26 16:05:55</td>\n",
       "      <td>Twitter for iPhone</td>\n",
       "      <td>5605</td>\n",
       "      <td>1062</td>\n",
       "    </tr>\n",
       "  </tbody>\n",
       "</table>\n",
       "</div>"
      ],
      "text/plain": [
       "                                              Tweets  len  \\\n",
       "0  उनको चौकीदार से डर लगने लगा है।\\n\\nचोरों की नी...  140   \n",
       "1  Congress is a master at misleading farmers. \\n...  140   \n",
       "2  Know how the emphasis on next-generation infra...  140   \n",
       "3  हिमाचल प्रदेश और अटल जी का नाता अटूट रहा। \\n\\n...  139   \n",
       "4  Here are pictures from the public meeting in D...  140   \n",
       "5  देवभूमि हिमाचल के धर्मशाला में जनसभा को संबोधि...   98   \n",
       "6  Looking forward to being in Devbhoomi Himachal...  140   \n",
       "7  Assamese is a great language and the culture o...   89   \n",
       "8  Connectivity will lead to more opportunity, wh...   98   \n",
       "9  Absolutely! More bright engineers who will con...   98   \n",
       "\n",
       "                    ID                Date                Source  Likes   RTs  \n",
       "0  1078290326119342082 2018-12-27 14:03:42  Twitter Media Studio  19674  5818  \n",
       "1  1078290217440665604 2018-12-27 14:03:16  Twitter Media Studio   6081  1826  \n",
       "2  1078290099056459776 2018-12-27 14:02:47  Twitter Media Studio   4078  1127  \n",
       "3  1078290034808115200 2018-12-27 14:02:32  Twitter Media Studio   6726  1553  \n",
       "4  1078289676031512577 2018-12-27 14:01:07    Twitter Web Client   4286  1149  \n",
       "5  1078195581493768193 2018-12-27 07:47:13             Periscope  15081  3369  \n",
       "6  1077959410067144704 2018-12-26 16:08:45    Twitter for iPhone  15784  2858  \n",
       "7  1077959056860594176 2018-12-26 16:07:21    Twitter for iPhone  15346  2714  \n",
       "8  1077958857467543552 2018-12-26 16:06:33    Twitter for iPhone   5729  1214  \n",
       "9  1077958697861681152 2018-12-26 16:05:55    Twitter for iPhone   5605  1062  "
      ]
     },
     "metadata": {},
     "output_type": "display_data"
    }
   ],
   "source": [
    "# We add relevant data:\n",
    "data['len']  = np.array([len(tweet.text) for tweet in tweets])\n",
    "data['ID']   = np.array([tweet.id for tweet in tweets])\n",
    "data['Date'] = np.array([tweet.created_at for tweet in tweets])\n",
    "data['Source'] = np.array([tweet.source for tweet in tweets])\n",
    "data['Likes']  = np.array([tweet.favorite_count for tweet in tweets])\n",
    "data['RTs']    = np.array([tweet.retweet_count for tweet in tweets])\n",
    "\n",
    "# Display of first 10 elements from dataframe:\n",
    "display(data.head(10))"
   ]
  },
  {
   "cell_type": "code",
   "execution_count": 8,
   "metadata": {},
   "outputs": [
    {
     "name": "stdout",
     "output_type": "stream",
     "text": [
      "The lenght's average in tweets: 128.425\n"
     ]
    }
   ],
   "source": [
    "# We extract the mean of lenghts:\n",
    "mean = np.mean(data['len'])\n",
    "\n",
    "print(\"The lenght's average in tweets: {}\".format(mean))"
   ]
  },
  {
   "cell_type": "code",
   "execution_count": 9,
   "metadata": {},
   "outputs": [
    {
     "name": "stdout",
     "output_type": "stream",
     "text": [
      "The tweet with more likes is: \n",
      "We accept the people’s mandate with humility. \n",
      "\n",
      "I thank the people of Chhattisgarh, Madhya Pradesh and Rajasthan fo… https://t.co/ujNyIJitxR\n",
      "Number of likes: 93367\n",
      "140 characters.\n",
      "\n",
      "The tweet with more retweets is: \n",
      "We accept the people’s mandate with humility. \n",
      "\n",
      "I thank the people of Chhattisgarh, Madhya Pradesh and Rajasthan fo… https://t.co/ujNyIJitxR\n",
      "Number of retweets: 16966\n",
      "140 characters.\n",
      "\n"
     ]
    }
   ],
   "source": [
    "# We extract the tweet with more FAVs and more RTs:\n",
    "\n",
    "fav_max = np.max(data['Likes'])\n",
    "rt_max  = np.max(data['RTs'])\n",
    "\n",
    "fav = data[data.Likes == fav_max].index[0]\n",
    "rt  = data[data.RTs == rt_max].index[0]\n",
    "\n",
    "# Max FAVs:\n",
    "print(\"The tweet with more likes is: \\n{}\".format(data['Tweets'][fav]))\n",
    "print(\"Number of likes: {}\".format(fav_max))\n",
    "print(\"{} characters.\\n\".format(data['len'][fav]))\n",
    "\n",
    "# Max RTs:\n",
    "print(\"The tweet with more retweets is: \\n{}\".format(data['Tweets'][rt]))\n",
    "print(\"Number of retweets: {}\".format(rt_max))\n",
    "print(\"{} characters.\\n\".format(data['len'][rt]))"
   ]
  },
  {
   "cell_type": "code",
   "execution_count": 10,
   "metadata": {},
   "outputs": [
    {
     "data": {
      "image/png": "[encoded data removed]",
      "text/plain": [
       "<matplotlib.figure.Figure at 0x29537729198>"
      ]
     },
     "metadata": {},
     "output_type": "display_data"
    }
   ],
   "source": [
    "# We create time series for data:\n",
    "\n",
    "tlen = pd.Series(data=data['len'].values, index=data['Date'])\n",
    "tfav = pd.Series(data=data['Likes'].values, index=data['Date'])\n",
    "tret = pd.Series(data=data['RTs'].values, index=data['Date'])\n",
    "\n",
    "# Lenghts along time:\n",
    "tlen.plot(figsize=(16,4), color='r');"
   ]
  },
  {
   "cell_type": "code",
   "execution_count": 11,
   "metadata": {
    "scrolled": true
   },
   "outputs": [
    {
     "data": {
      "image/png": "[encoded data removed]",
      "text/plain": [
       "<matplotlib.figure.Figure at 0x29537729e48>"
      ]
     },
     "metadata": {},
     "output_type": "display_data"
    }
   ],
   "source": [
    "# Likes vs retweets visualization:\n",
    "tfav.plot(figsize=(16,4), label=\"Likes\", legend=True)\n",
    "tret.plot(figsize=(16,4), label=\"Retweets\", legend=True);"
   ]
  },
  {
   "cell_type": "code",
   "execution_count": 12,
   "metadata": {},
   "outputs": [
    {
     "data": {
      "text/plain": [
       "Text(0,0.5,'Number of tweets')"
      ]
     },
     "execution_count": 12,
     "metadata": {},
     "output_type": "execute_result"
    },
    {
     "data": {
      "image/png": "[encoded data removed]",
      "text/plain": [
       "<matplotlib.figure.Figure at 0x29537c94470>"
      ]
     },
     "metadata": {},
     "output_type": "display_data"
    }
   ],
   "source": [
    "sns.distplot(data['len'], color=\"dodgerblue\", bins=30)\n",
    "plt.title(\" tweets length distribution\")\n",
    "plt.xlabel(\"Length\")\n",
    "sns.despine()\n",
    "plt.ylabel(\"Number of tweets\")"
   ]
  },
  {
   "cell_type": "code",
   "execution_count": 13,
   "metadata": {},
   "outputs": [
    {
     "name": "stdout",
     "output_type": "stream",
     "text": [
      "5 recent tweets:\n",
      "\n",
      "उनको चौकीदार से डर लगने लगा है।\n",
      "\n",
      "चोरों की नींद हराम हो गई है कि चौकीदार सोने को तैयार नहीं है।\n",
      "\n",
      "चौकीदार चोरों को छो… https://t.co/xCPTw1zDiK\n",
      "हिमाचल प्रदेश और अटल जी का नाता अटूट रहा। \n",
      "\n",
      "अटल जी ने हिमाचल के विकास की मजबूत नींव रखी और उसी से प्रेरित होकर भाज… https://t.co/4zKhRVPJTG\n",
      "Congress is a master at misleading farmers. \n",
      "\n",
      "Their fake promises and tokenism will not cut ice with the hardworkin… https://t.co/wlISXQgLlr\n",
      "Know how the emphasis on next-generation infrastructure will have a positive impact on the people of Himachal Prade… https://t.co/Dc0Jz3WXkI\n",
      "Here are pictures from the public meeting in Dharamshala. \n",
      "\n",
      "I congratulate the Himachal Pradesh Government under CM… https://t.co/5vupo9ub1C\n"
     ]
    }
   ],
   "source": [
    "# We print the most recent 5 tweets:\n",
    "english=[]\n",
    "hindi=[]\n",
    "print(\"5 recent tweets:\\n\")\n",
    "for tweet in tweets[:5]:\n",
    "    if tweet.lang==\"hi\":\n",
    "        hindi.append(tweet)\n",
    "    if tweet.lang==\"en\":\n",
    "        english.append(tweet)\n",
    "for x in hindi:\n",
    "    print(x.text)\n",
    "for x in english:\n",
    "    print(x.text)\n",
    "    "
   ]
  },
  {
   "cell_type": "code",
   "execution_count": 14,
   "metadata": {},
   "outputs": [
    {
     "name": "stdout",
     "output_type": "stream",
     "text": [
      "Creation of content sources:\n",
      "* Twitter Media Studio\n",
      "* Twitter Web Client\n",
      "* Periscope\n",
      "* Twitter for iPhone\n",
      "* Twitter for Android\n"
     ]
    }
   ],
   "source": [
    "# We obtain all possible sources:\n",
    "sources = []\n",
    "for source in data['Source']:\n",
    "    if source not in sources:\n",
    "        sources.append(source)\n",
    "\n",
    "# We print sources list:\n",
    "print(\"Creation of content sources:\")\n",
    "for source in sources:\n",
    "    print(\"* {}\".format(source))"
   ]
  },
  {
   "cell_type": "code",
   "execution_count": 15,
   "metadata": {
    "scrolled": true
   },
   "outputs": [
    {
     "name": "stdout",
     "output_type": "stream",
     "text": [
      "Congress is a master at misleading farmers. \n",
      "\n",
      "Their fake promises and tokenism will not cut ice with the hardworkin… https://t.co/wlISXQgLlrKnow how the emphasis on next-generation infrastructure will have a positive impact on the people of Himachal Prade… https://t.co/Dc0Jz3WXkIHere are pictures from the public meeting in Dharamshala. \n",
      "\n",
      "I congratulate the Himachal Pradesh Government under CM… https://t.co/5vupo9ub1C\n"
     ]
    }
   ],
   "source": [
    "str=''\n",
    "for x in english:\n",
    "    str+=''.join(x.text)\n",
    "print(str)"
   ]
  },
  {
   "cell_type": "code",
   "execution_count": 16,
   "metadata": {},
   "outputs": [],
   "source": [
    "def show_words_cloud(text):\n",
    "    twitter_mask = np.array(Image.open(\"twitter_logo_mask.png\"))\n",
    "\n",
    "    wcloud = WordCloud(background_color=\"white\", max_words=200,mask=twitter_mask, max_font_size=60,stopwords=STOPWORDS.add(\"RT\"))\n",
    "\n",
    "    wcloud.generate(text)\n",
    "\n",
    "    plt.figure()\n",
    "    plt.imshow(wcloud)\n",
    "    plt.axis(\"off\")\n",
    "    plt.show()"
   ]
  },
  {
   "cell_type": "code",
   "execution_count": 17,
   "metadata": {},
   "outputs": [
    {
     "data": {
      "image/png": "[encoded data removed]",
      "text/plain": [
       "<matplotlib.figure.Figure at 0x29537c1eef0>"
      ]
     },
     "metadata": {},
     "output_type": "display_data"
    }
   ],
   "source": [
    "show_words_cloud(str)"
   ]
  },
  {
   "cell_type": "code",
   "execution_count": 18,
   "metadata": {},
   "outputs": [
    {
     "data": {
      "text/html": [
       "<div>\n",
       "<style scoped>\n",
       "    .dataframe tbody tr th:only-of-type {\n",
       "        vertical-align: middle;\n",
       "    }\n",
       "\n",
       "    .dataframe tbody tr th {\n",
       "        vertical-align: top;\n",
       "    }\n",
       "\n",
       "    .dataframe thead th {\n",
       "        text-align: right;\n",
       "    }\n",
       "</style>\n",
       "<table border=\"1\" class=\"dataframe\">\n",
       "  <thead>\n",
       "    <tr style=\"text-align: right;\">\n",
       "      <th></th>\n",
       "      <th>Tweets</th>\n",
       "      <th>len</th>\n",
       "    </tr>\n",
       "  </thead>\n",
       "  <tbody>\n",
       "    <tr>\n",
       "      <th>0</th>\n",
       "      <td>Congress is a master at misleading farmers. \\n...</td>\n",
       "      <td>140</td>\n",
       "    </tr>\n",
       "    <tr>\n",
       "      <th>1</th>\n",
       "      <td>Know how the emphasis on next-generation infra...</td>\n",
       "      <td>140</td>\n",
       "    </tr>\n",
       "    <tr>\n",
       "      <th>2</th>\n",
       "      <td>Here are pictures from the public meeting in D...</td>\n",
       "      <td>140</td>\n",
       "    </tr>\n",
       "  </tbody>\n",
       "</table>\n",
       "</div>"
      ],
      "text/plain": [
       "                                              Tweets  len\n",
       "0  Congress is a master at misleading farmers. \\n...  140\n",
       "1  Know how the emphasis on next-generation infra...  140\n",
       "2  Here are pictures from the public meeting in D...  140"
      ]
     },
     "metadata": {},
     "output_type": "display_data"
    }
   ],
   "source": [
    "eng = pd.DataFrame(data=[tweet.text for tweet in english], columns=['Tweets'])\n",
    "eng['len']  = np.array([len(tweet.text) for tweet in english])\n",
    "display(eng.head(10))"
   ]
  },
  {
   "cell_type": "code",
   "execution_count": 19,
   "metadata": {
    "scrolled": true
   },
   "outputs": [
    {
     "data": {
      "text/html": [
       "<div>\n",
       "<style scoped>\n",
       "    .dataframe tbody tr th:only-of-type {\n",
       "        vertical-align: middle;\n",
       "    }\n",
       "\n",
       "    .dataframe tbody tr th {\n",
       "        vertical-align: top;\n",
       "    }\n",
       "\n",
       "    .dataframe thead th {\n",
       "        text-align: right;\n",
       "    }\n",
       "</style>\n",
       "<table border=\"1\" class=\"dataframe\">\n",
       "  <thead>\n",
       "    <tr style=\"text-align: right;\">\n",
       "      <th></th>\n",
       "      <th>Tweets</th>\n",
       "      <th>len</th>\n",
       "    </tr>\n",
       "  </thead>\n",
       "  <tbody>\n",
       "    <tr>\n",
       "      <th>0</th>\n",
       "      <td>उनको चौकीदार से डर लगने लगा है।\\n\\nचोरों की नी...</td>\n",
       "      <td>140</td>\n",
       "    </tr>\n",
       "    <tr>\n",
       "      <th>1</th>\n",
       "      <td>हिमाचल प्रदेश और अटल जी का नाता अटूट रहा। \\n\\n...</td>\n",
       "      <td>139</td>\n",
       "    </tr>\n",
       "  </tbody>\n",
       "</table>\n",
       "</div>"
      ],
      "text/plain": [
       "                                              Tweets  len\n",
       "0  उनको चौकीदार से डर लगने लगा है।\\n\\nचोरों की नी...  140\n",
       "1  हिमाचल प्रदेश और अटल जी का नाता अटूट रहा। \\n\\n...  139"
      ]
     },
     "metadata": {},
     "output_type": "display_data"
    }
   ],
   "source": [
    "hin = pd.DataFrame(data=[tweet.text for tweet in hindi], columns=['Tweets'])\n",
    "hin['len']  = np.array([len(tweet.text) for tweet in hindi])\n",
    "display(hin.head(10))"
   ]
  },
  {
   "cell_type": "code",
   "execution_count": 20,
   "metadata": {},
   "outputs": [
    {
     "name": "stderr",
     "output_type": "stream",
     "text": [
      "C:\\Users\\ASUS\\Anaconda3\\lib\\site-packages\\statsmodels\\nonparametric\\kde.py:494: RuntimeWarning: invalid value encountered in true_divide\n",
      "  binned = fast_linbin(X,a,b,gridsize)/(delta*nobs)\n",
      "C:\\Users\\ASUS\\Anaconda3\\lib\\site-packages\\statsmodels\\nonparametric\\kdetools.py:34: RuntimeWarning: invalid value encountered in double_scalars\n",
      "  FAC1 = 2*(np.pi*bw/RANGE)**2\n",
      "C:\\Users\\ASUS\\Anaconda3\\lib\\site-packages\\numpy\\core\\_methods.py:26: RuntimeWarning: invalid value encountered in reduce\n",
      "  return umr_maximum(a, axis, None, out, keepdims)\n"
     ]
    },
    {
     "data": {
      "text/plain": [
       "Text(0,0.5,'Number of tweets')"
      ]
     },
     "execution_count": 20,
     "metadata": {},
     "output_type": "execute_result"
    },
    {
     "data": {
      "image/png": "[encoded data removed]",
      "text/plain": [
       "<matplotlib.figure.Figure at 0x29537f57be0>"
      ]
     },
     "metadata": {},
     "output_type": "display_data"
    }
   ],
   "source": [
    "sns.distplot(eng['len'], color=\"dodgerblue\", bins=30)\n",
    "plt.title(\"english tweets length distribution\")\n",
    "plt.xlabel(\"Length\")\n",
    "sns.despine()\n",
    "plt.ylabel(\"Number of tweets\")"
   ]
  },
  {
   "cell_type": "code",
   "execution_count": 21,
   "metadata": {},
   "outputs": [
    {
     "data": {
      "text/plain": [
       "Text(0,0.5,'Number of tweets')"
      ]
     },
     "execution_count": 21,
     "metadata": {},
     "output_type": "execute_result"
    },
    {
     "data": {
      "image/png": "[encoded data removed]",
      "text/plain": [
       "<matplotlib.figure.Figure at 0x29537b32f28>"
      ]
     },
     "metadata": {},
     "output_type": "display_data"
    }
   ],
   "source": [
    "sns.distplot(hin['len'], color=\"dodgerblue\", bins=30)\n",
    "plt.title(\"hindi tweets length distribution\")\n",
    "plt.xlabel(\"Length\")\n",
    "sns.despine()\n",
    "plt.ylabel(\"Number of tweets\")"
   ]
  },
  {
   "cell_type": "code",
   "execution_count": 22,
   "metadata": {},
   "outputs": [
    {
     "name": "stdout",
     "output_type": "stream",
     "text": [
      "Creation of content sources:\n",
      "* Twitter Media Studio\n",
      "* Twitter Web Client\n",
      "* Periscope\n",
      "* Twitter for iPhone\n",
      "* Twitter for Android\n"
     ]
    }
   ],
   "source": [
    "# We obtain all possible sources:\n",
    "sources = []\n",
    "for source in data['Source']:\n",
    "    if source not in sources:\n",
    "        sources.append(source)\n",
    "\n",
    "# We print sources list:\n",
    "print(\"Creation of content sources:\")\n",
    "for source in sources:\n",
    "    print(\"* {}\".format(source))"
   ]
  },
  {
   "cell_type": "code",
   "execution_count": 23,
   "metadata": {},
   "outputs": [
    {
     "data": {
      "image/png": "[encoded data removed]",
      "text/plain": [
       "<matplotlib.figure.Figure at 0x29537d5c1d0>"
      ]
     },
     "metadata": {},
     "output_type": "display_data"
    }
   ],
   "source": [
    "# We create a numpy vector mapped to labels:\n",
    "percent = np.zeros(len(sources))\n",
    "\n",
    "for source in data['Source']:\n",
    "    for index in range(len(sources)):\n",
    "        if source == sources[index]:\n",
    "            percent[index] += 1\n",
    "            pass\n",
    "\n",
    "percent /= 100\n",
    "\n",
    "# Pie chart:\n",
    "pie_chart = pd.Series(percent, index=sources, name='Sources')\n",
    "pie_chart.plot.pie(fontsize=11, autopct='%.2f', figsize=(6, 6));"
   ]
  },
  {
   "cell_type": "code",
   "execution_count": 24,
   "metadata": {},
   "outputs": [
    {
     "data": {
      "text/html": [
       "<div>\n",
       "<style scoped>\n",
       "    .dataframe tbody tr th:only-of-type {\n",
       "        vertical-align: middle;\n",
       "    }\n",
       "\n",
       "    .dataframe tbody tr th {\n",
       "        vertical-align: top;\n",
       "    }\n",
       "\n",
       "    .dataframe thead th {\n",
       "        text-align: right;\n",
       "    }\n",
       "</style>\n",
       "<table border=\"1\" class=\"dataframe\">\n",
       "  <thead>\n",
       "    <tr style=\"text-align: right;\">\n",
       "      <th></th>\n",
       "      <th>Tweets</th>\n",
       "      <th>len</th>\n",
       "      <th>ID</th>\n",
       "      <th>Date</th>\n",
       "      <th>Source</th>\n",
       "      <th>Likes</th>\n",
       "      <th>RTs</th>\n",
       "      <th>SA</th>\n",
       "    </tr>\n",
       "  </thead>\n",
       "  <tbody>\n",
       "    <tr>\n",
       "      <th>0</th>\n",
       "      <td>उनको चौकीदार से डर लगने लगा है।\\n\\nचोरों की नी...</td>\n",
       "      <td>140</td>\n",
       "      <td>1078290326119342082</td>\n",
       "      <td>2018-12-27 14:03:42</td>\n",
       "      <td>Twitter Media Studio</td>\n",
       "      <td>19674</td>\n",
       "      <td>5818</td>\n",
       "      <td>0</td>\n",
       "    </tr>\n",
       "    <tr>\n",
       "      <th>1</th>\n",
       "      <td>Congress is a master at misleading farmers. \\n...</td>\n",
       "      <td>140</td>\n",
       "      <td>1078290217440665604</td>\n",
       "      <td>2018-12-27 14:03:16</td>\n",
       "      <td>Twitter Media Studio</td>\n",
       "      <td>6081</td>\n",
       "      <td>1826</td>\n",
       "      <td>-1</td>\n",
       "    </tr>\n",
       "    <tr>\n",
       "      <th>2</th>\n",
       "      <td>Know how the emphasis on next-generation infra...</td>\n",
       "      <td>140</td>\n",
       "      <td>1078290099056459776</td>\n",
       "      <td>2018-12-27 14:02:47</td>\n",
       "      <td>Twitter Media Studio</td>\n",
       "      <td>4078</td>\n",
       "      <td>1127</td>\n",
       "      <td>1</td>\n",
       "    </tr>\n",
       "    <tr>\n",
       "      <th>3</th>\n",
       "      <td>हिमाचल प्रदेश और अटल जी का नाता अटूट रहा। \\n\\n...</td>\n",
       "      <td>139</td>\n",
       "      <td>1078290034808115200</td>\n",
       "      <td>2018-12-27 14:02:32</td>\n",
       "      <td>Twitter Media Studio</td>\n",
       "      <td>6726</td>\n",
       "      <td>1553</td>\n",
       "      <td>0</td>\n",
       "    </tr>\n",
       "    <tr>\n",
       "      <th>4</th>\n",
       "      <td>Here are pictures from the public meeting in D...</td>\n",
       "      <td>140</td>\n",
       "      <td>1078289676031512577</td>\n",
       "      <td>2018-12-27 14:01:07</td>\n",
       "      <td>Twitter Web Client</td>\n",
       "      <td>4286</td>\n",
       "      <td>1149</td>\n",
       "      <td>0</td>\n",
       "    </tr>\n",
       "    <tr>\n",
       "      <th>5</th>\n",
       "      <td>देवभूमि हिमाचल के धर्मशाला में जनसभा को संबोधि...</td>\n",
       "      <td>98</td>\n",
       "      <td>1078195581493768193</td>\n",
       "      <td>2018-12-27 07:47:13</td>\n",
       "      <td>Periscope</td>\n",
       "      <td>15081</td>\n",
       "      <td>3369</td>\n",
       "      <td>0</td>\n",
       "    </tr>\n",
       "    <tr>\n",
       "      <th>6</th>\n",
       "      <td>Looking forward to being in Devbhoomi Himachal...</td>\n",
       "      <td>140</td>\n",
       "      <td>1077959410067144704</td>\n",
       "      <td>2018-12-26 16:08:45</td>\n",
       "      <td>Twitter for iPhone</td>\n",
       "      <td>15784</td>\n",
       "      <td>2858</td>\n",
       "      <td>0</td>\n",
       "    </tr>\n",
       "    <tr>\n",
       "      <th>7</th>\n",
       "      <td>Assamese is a great language and the culture o...</td>\n",
       "      <td>89</td>\n",
       "      <td>1077959056860594176</td>\n",
       "      <td>2018-12-26 16:07:21</td>\n",
       "      <td>Twitter for iPhone</td>\n",
       "      <td>15346</td>\n",
       "      <td>2714</td>\n",
       "      <td>1</td>\n",
       "    </tr>\n",
       "    <tr>\n",
       "      <th>8</th>\n",
       "      <td>Connectivity will lead to more opportunity, wh...</td>\n",
       "      <td>98</td>\n",
       "      <td>1077958857467543552</td>\n",
       "      <td>2018-12-26 16:06:33</td>\n",
       "      <td>Twitter for iPhone</td>\n",
       "      <td>5729</td>\n",
       "      <td>1214</td>\n",
       "      <td>1</td>\n",
       "    </tr>\n",
       "    <tr>\n",
       "      <th>9</th>\n",
       "      <td>Absolutely! More bright engineers who will con...</td>\n",
       "      <td>98</td>\n",
       "      <td>1077958697861681152</td>\n",
       "      <td>2018-12-26 16:05:55</td>\n",
       "      <td>Twitter for iPhone</td>\n",
       "      <td>5605</td>\n",
       "      <td>1062</td>\n",
       "      <td>1</td>\n",
       "    </tr>\n",
       "  </tbody>\n",
       "</table>\n",
       "</div>"
      ],
      "text/plain": [
       "                                              Tweets  len  \\\n",
       "0  उनको चौकीदार से डर लगने लगा है।\\n\\nचोरों की नी...  140   \n",
       "1  Congress is a master at misleading farmers. \\n...  140   \n",
       "2  Know how the emphasis on next-generation infra...  140   \n",
       "3  हिमाचल प्रदेश और अटल जी का नाता अटूट रहा। \\n\\n...  139   \n",
       "4  Here are pictures from the public meeting in D...  140   \n",
       "5  देवभूमि हिमाचल के धर्मशाला में जनसभा को संबोधि...   98   \n",
       "6  Looking forward to being in Devbhoomi Himachal...  140   \n",
       "7  Assamese is a great language and the culture o...   89   \n",
       "8  Connectivity will lead to more opportunity, wh...   98   \n",
       "9  Absolutely! More bright engineers who will con...   98   \n",
       "\n",
       "                    ID                Date                Source  Likes   RTs  \\\n",
       "0  1078290326119342082 2018-12-27 14:03:42  Twitter Media Studio  19674  5818   \n",
       "1  1078290217440665604 2018-12-27 14:03:16  Twitter Media Studio   6081  1826   \n",
       "2  1078290099056459776 2018-12-27 14:02:47  Twitter Media Studio   4078  1127   \n",
       "3  1078290034808115200 2018-12-27 14:02:32  Twitter Media Studio   6726  1553   \n",
       "4  1078289676031512577 2018-12-27 14:01:07    Twitter Web Client   4286  1149   \n",
       "5  1078195581493768193 2018-12-27 07:47:13             Periscope  15081  3369   \n",
       "6  1077959410067144704 2018-12-26 16:08:45    Twitter for iPhone  15784  2858   \n",
       "7  1077959056860594176 2018-12-26 16:07:21    Twitter for iPhone  15346  2714   \n",
       "8  1077958857467543552 2018-12-26 16:06:33    Twitter for iPhone   5729  1214   \n",
       "9  1077958697861681152 2018-12-26 16:05:55    Twitter for iPhone   5605  1062   \n",
       "\n",
       "   SA  \n",
       "0   0  \n",
       "1  -1  \n",
       "2   1  \n",
       "3   0  \n",
       "4   0  \n",
       "5   0  \n",
       "6   0  \n",
       "7   1  \n",
       "8   1  \n",
       "9   1  "
      ]
     },
     "metadata": {},
     "output_type": "display_data"
    }
   ],
   "source": [
    "from textblob import TextBlob\n",
    "import re\n",
    "\n",
    "def clean_tweet(tweet):\n",
    "    '''\n",
    "    Utility function to clean the text in a tweet by removing \n",
    "    links and special characters using regex.\n",
    "    '''\n",
    "    return ' '.join(re.sub(\"(@[A-Za-z0-9]+)|([^0-9A-Za-z \\t])|(\\w+:\\/\\/\\S+)\", \" \", tweet).split())\n",
    "\n",
    "def analize_sentiment(tweet):\n",
    "    '''\n",
    "    Utility function to classify the polarity of a tweet\n",
    "    using textblob.\n",
    "    '''\n",
    "    analysis = TextBlob(clean_tweet(tweet))\n",
    "    if analysis.sentiment.polarity > 0:\n",
    "        return 1\n",
    "    elif analysis.sentiment.polarity == 0:\n",
    "        return 0\n",
    "    else:\n",
    "        return -1\n",
    "    \n",
    "# We create a column with the result of the analysis:\n",
    "data['SA'] = np.array([ analize_sentiment(tweet) for tweet in data['Tweets'] ])\n",
    "\n",
    "# We display the updated dataframe with the new column:\n",
    "display(data.head(10))"
   ]
  },
  {
   "cell_type": "code",
   "execution_count": 25,
   "metadata": {},
   "outputs": [
    {
     "name": "stdout",
     "output_type": "stream",
     "text": [
      "Percentage of positive tweets: 47.5%\n",
      "Percentage of neutral tweets: 47.5%\n",
      "Percentage of negative tweets: 5.0%\n"
     ]
    }
   ],
   "source": [
    "# We construct lists with classified tweets:\n",
    "\n",
    "pos_tweets = [ tweet for index, tweet in enumerate(data['Tweets']) if data['SA'][index] > 0]\n",
    "neu_tweets = [ tweet for index, tweet in enumerate(data['Tweets']) if data['SA'][index] == 0]\n",
    "neg_tweets = [ tweet for index, tweet in enumerate(data['Tweets']) if data['SA'][index] < 0]\n",
    "\n",
    "# We print percentages:\n",
    "\n",
    "print(\"Percentage of positive tweets: {}%\".format(len(pos_tweets)*100/len(data['Tweets'])))\n",
    "print(\"Percentage of neutral tweets: {}%\".format(len(neu_tweets)*100/len(data['Tweets'])))\n",
    "print(\"Percentage of negative tweets: {}%\".format(len(neg_tweets)*100/len(data['Tweets'])))"
   ]
  },
  {
   "cell_type": "code",
   "execution_count": null,
   "metadata": {},
   "outputs": [],
   "source": []
  }
 ],
 "metadata": {
  "kernelspec": {
   "display_name": "Python 3",
   "language": "python",
   "name": "python3"
  },
  "language_info": {
   "codemirror_mode": {
    "name": "ipython",
    "version": 3
   },
   "file_extension": ".py",
   "mimetype": "text/x-python",
   "name": "python",
   "nbconvert_exporter": "python",
   "pygments_lexer": "ipython3",
   "version": "3.6.4"
  }
 },
 "nbformat": 4,
 "nbformat_minor": 2
}
